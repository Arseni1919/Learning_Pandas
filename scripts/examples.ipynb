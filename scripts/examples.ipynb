{
 "cells": [
  {
   "cell_type": "code",
   "execution_count": 1,
   "metadata": {
    "collapsed": true
   },
   "outputs": [],
   "source": [
    "from imports import *\n"
   ]
  },
  {
   "cell_type": "markdown",
   "source": [
    "# Learning Pandas\n",
    "\n",
    "## First Steps\n",
    "Let's import the data:"
   ],
   "metadata": {
    "collapsed": false,
    "pycharm": {
     "name": "#%% md\n"
    }
   }
  },
  {
   "cell_type": "code",
   "source": [
    "nba = pd.read_csv(\"../data/nba_all_elo.csv\")\n",
    "type(nba)"
   ],
   "metadata": {
    "collapsed": false,
    "pycharm": {
     "name": "#%%\n"
    }
   },
   "execution_count": 3,
   "outputs": [
    {
     "data": {
      "text/plain": "pandas.core.frame.DataFrame"
     },
     "execution_count": 3,
     "metadata": {},
     "output_type": "execute_result"
    }
   ]
  },
  {
   "cell_type": "markdown",
   "source": [
    "Some first information:"
   ],
   "metadata": {
    "collapsed": false,
    "pycharm": {
     "name": "#%% md\n"
    }
   }
  },
  {
   "cell_type": "code",
   "execution_count": 5,
   "outputs": [
    {
     "data": {
      "text/plain": "126314"
     },
     "execution_count": 5,
     "metadata": {},
     "output_type": "execute_result"
    }
   ],
   "source": [
    "len(nba)"
   ],
   "metadata": {
    "collapsed": false,
    "pycharm": {
     "name": "#%%\n"
    }
   }
  },
  {
   "cell_type": "code",
   "execution_count": 6,
   "outputs": [
    {
     "data": {
      "text/plain": "(126314, 23)"
     },
     "execution_count": 6,
     "metadata": {},
     "output_type": "execute_result"
    }
   ],
   "source": [
    "nba.shape"
   ],
   "metadata": {
    "collapsed": false,
    "pycharm": {
     "name": "#%%\n"
    }
   }
  },
  {
   "cell_type": "markdown",
   "source": [
    "Head of the data:\n"
   ],
   "metadata": {
    "collapsed": false,
    "pycharm": {
     "name": "#%% md\n"
    }
   }
  },
  {
   "cell_type": "code",
   "execution_count": 8,
   "outputs": [
    {
     "data": {
      "text/plain": "   gameorder       game_id lg_id  _iscopy  year_id  date_game  seasongame  \\\n0          1  194611010TRH   NBA        0     1947  11/1/1946           1   \n1          1  194611010TRH   NBA        1     1947  11/1/1946           1   \n2          2  194611020CHS   NBA        0     1947  11/2/1946           1   \n3          2  194611020CHS   NBA        1     1947  11/2/1946           2   \n4          3  194611020DTF   NBA        0     1947  11/2/1946           1   \n\n   is_playoffs team_id  fran_id  ...  win_equiv  opp_id  opp_fran  opp_pts  \\\n0            0     TRH  Huskies  ...  40.294830     NYK    Knicks       68   \n1            0     NYK   Knicks  ...  41.705170     TRH   Huskies       66   \n2            0     CHS    Stags  ...  42.012257     NYK    Knicks       47   \n3            0     NYK   Knicks  ...  40.692783     CHS     Stags       63   \n4            0     DTF  Falcons  ...  38.864048     WSC  Capitols       50   \n\n   opp_elo_i  opp_elo_n  game_location  game_result  forecast notes  \n0  1300.0000  1306.7233              H            L  0.640065   NaN  \n1  1300.0000  1293.2767              A            W  0.359935   NaN  \n2  1306.7233  1297.0712              H            W  0.631101   NaN  \n3  1300.0000  1309.6521              A            L  0.368899   NaN  \n4  1300.0000  1320.3811              H            L  0.640065   NaN  \n\n[5 rows x 23 columns]",
      "text/html": "<div>\n<style scoped>\n    .dataframe tbody tr th:only-of-type {\n        vertical-align: middle;\n    }\n\n    .dataframe tbody tr th {\n        vertical-align: top;\n    }\n\n    .dataframe thead th {\n        text-align: right;\n    }\n</style>\n<table border=\"1\" class=\"dataframe\">\n  <thead>\n    <tr style=\"text-align: right;\">\n      <th></th>\n      <th>gameorder</th>\n      <th>game_id</th>\n      <th>lg_id</th>\n      <th>_iscopy</th>\n      <th>year_id</th>\n      <th>date_game</th>\n      <th>seasongame</th>\n      <th>is_playoffs</th>\n      <th>team_id</th>\n      <th>fran_id</th>\n      <th>...</th>\n      <th>win_equiv</th>\n      <th>opp_id</th>\n      <th>opp_fran</th>\n      <th>opp_pts</th>\n      <th>opp_elo_i</th>\n      <th>opp_elo_n</th>\n      <th>game_location</th>\n      <th>game_result</th>\n      <th>forecast</th>\n      <th>notes</th>\n    </tr>\n  </thead>\n  <tbody>\n    <tr>\n      <th>0</th>\n      <td>1</td>\n      <td>194611010TRH</td>\n      <td>NBA</td>\n      <td>0</td>\n      <td>1947</td>\n      <td>11/1/1946</td>\n      <td>1</td>\n      <td>0</td>\n      <td>TRH</td>\n      <td>Huskies</td>\n      <td>...</td>\n      <td>40.294830</td>\n      <td>NYK</td>\n      <td>Knicks</td>\n      <td>68</td>\n      <td>1300.0000</td>\n      <td>1306.7233</td>\n      <td>H</td>\n      <td>L</td>\n      <td>0.640065</td>\n      <td>NaN</td>\n    </tr>\n    <tr>\n      <th>1</th>\n      <td>1</td>\n      <td>194611010TRH</td>\n      <td>NBA</td>\n      <td>1</td>\n      <td>1947</td>\n      <td>11/1/1946</td>\n      <td>1</td>\n      <td>0</td>\n      <td>NYK</td>\n      <td>Knicks</td>\n      <td>...</td>\n      <td>41.705170</td>\n      <td>TRH</td>\n      <td>Huskies</td>\n      <td>66</td>\n      <td>1300.0000</td>\n      <td>1293.2767</td>\n      <td>A</td>\n      <td>W</td>\n      <td>0.359935</td>\n      <td>NaN</td>\n    </tr>\n    <tr>\n      <th>2</th>\n      <td>2</td>\n      <td>194611020CHS</td>\n      <td>NBA</td>\n      <td>0</td>\n      <td>1947</td>\n      <td>11/2/1946</td>\n      <td>1</td>\n      <td>0</td>\n      <td>CHS</td>\n      <td>Stags</td>\n      <td>...</td>\n      <td>42.012257</td>\n      <td>NYK</td>\n      <td>Knicks</td>\n      <td>47</td>\n      <td>1306.7233</td>\n      <td>1297.0712</td>\n      <td>H</td>\n      <td>W</td>\n      <td>0.631101</td>\n      <td>NaN</td>\n    </tr>\n    <tr>\n      <th>3</th>\n      <td>2</td>\n      <td>194611020CHS</td>\n      <td>NBA</td>\n      <td>1</td>\n      <td>1947</td>\n      <td>11/2/1946</td>\n      <td>2</td>\n      <td>0</td>\n      <td>NYK</td>\n      <td>Knicks</td>\n      <td>...</td>\n      <td>40.692783</td>\n      <td>CHS</td>\n      <td>Stags</td>\n      <td>63</td>\n      <td>1300.0000</td>\n      <td>1309.6521</td>\n      <td>A</td>\n      <td>L</td>\n      <td>0.368899</td>\n      <td>NaN</td>\n    </tr>\n    <tr>\n      <th>4</th>\n      <td>3</td>\n      <td>194611020DTF</td>\n      <td>NBA</td>\n      <td>0</td>\n      <td>1947</td>\n      <td>11/2/1946</td>\n      <td>1</td>\n      <td>0</td>\n      <td>DTF</td>\n      <td>Falcons</td>\n      <td>...</td>\n      <td>38.864048</td>\n      <td>WSC</td>\n      <td>Capitols</td>\n      <td>50</td>\n      <td>1300.0000</td>\n      <td>1320.3811</td>\n      <td>H</td>\n      <td>L</td>\n      <td>0.640065</td>\n      <td>NaN</td>\n    </tr>\n  </tbody>\n</table>\n<p>5 rows × 23 columns</p>\n</div>"
     },
     "execution_count": 8,
     "metadata": {},
     "output_type": "execute_result"
    }
   ],
   "source": [
    "nba.head()"
   ],
   "metadata": {
    "collapsed": false,
    "pycharm": {
     "name": "#%%\n"
    }
   }
  },
  {
   "cell_type": "markdown",
   "source": [
    "In order to show all the columns:"
   ],
   "metadata": {
    "collapsed": false
   }
  },
  {
   "cell_type": "code",
   "execution_count": 10,
   "outputs": [
    {
     "data": {
      "text/plain": "   gameorder       game_id lg_id  _iscopy  year_id  date_game  seasongame  \\\n0          1  194611010TRH   NBA        0     1947  11/1/1946           1   \n1          1  194611010TRH   NBA        1     1947  11/1/1946           1   \n2          2  194611020CHS   NBA        0     1947  11/2/1946           1   \n3          2  194611020CHS   NBA        1     1947  11/2/1946           2   \n4          3  194611020DTF   NBA        0     1947  11/2/1946           1   \n\n   is_playoffs team_id  fran_id  pts      elo_i      elo_n  win_equiv opp_id  \\\n0            0     TRH  Huskies   66  1300.0000  1293.2767  40.294830    NYK   \n1            0     NYK   Knicks   68  1300.0000  1306.7233  41.705170    TRH   \n2            0     CHS    Stags   63  1300.0000  1309.6521  42.012257    NYK   \n3            0     NYK   Knicks   47  1306.7233  1297.0712  40.692783    CHS   \n4            0     DTF  Falcons   33  1300.0000  1279.6189  38.864048    WSC   \n\n   opp_fran  opp_pts  opp_elo_i  opp_elo_n game_location game_result  \\\n0    Knicks       68  1300.0000  1306.7233             H           L   \n1   Huskies       66  1300.0000  1293.2767             A           W   \n2    Knicks       47  1306.7233  1297.0712             H           W   \n3     Stags       63  1300.0000  1309.6521             A           L   \n4  Capitols       50  1300.0000  1320.3811             H           L   \n\n   forecast notes  \n0  0.640065   NaN  \n1  0.359935   NaN  \n2  0.631101   NaN  \n3  0.368899   NaN  \n4  0.640065   NaN  ",
      "text/html": "<div>\n<style scoped>\n    .dataframe tbody tr th:only-of-type {\n        vertical-align: middle;\n    }\n\n    .dataframe tbody tr th {\n        vertical-align: top;\n    }\n\n    .dataframe thead th {\n        text-align: right;\n    }\n</style>\n<table border=\"1\" class=\"dataframe\">\n  <thead>\n    <tr style=\"text-align: right;\">\n      <th></th>\n      <th>gameorder</th>\n      <th>game_id</th>\n      <th>lg_id</th>\n      <th>_iscopy</th>\n      <th>year_id</th>\n      <th>date_game</th>\n      <th>seasongame</th>\n      <th>is_playoffs</th>\n      <th>team_id</th>\n      <th>fran_id</th>\n      <th>pts</th>\n      <th>elo_i</th>\n      <th>elo_n</th>\n      <th>win_equiv</th>\n      <th>opp_id</th>\n      <th>opp_fran</th>\n      <th>opp_pts</th>\n      <th>opp_elo_i</th>\n      <th>opp_elo_n</th>\n      <th>game_location</th>\n      <th>game_result</th>\n      <th>forecast</th>\n      <th>notes</th>\n    </tr>\n  </thead>\n  <tbody>\n    <tr>\n      <th>0</th>\n      <td>1</td>\n      <td>194611010TRH</td>\n      <td>NBA</td>\n      <td>0</td>\n      <td>1947</td>\n      <td>11/1/1946</td>\n      <td>1</td>\n      <td>0</td>\n      <td>TRH</td>\n      <td>Huskies</td>\n      <td>66</td>\n      <td>1300.0000</td>\n      <td>1293.2767</td>\n      <td>40.294830</td>\n      <td>NYK</td>\n      <td>Knicks</td>\n      <td>68</td>\n      <td>1300.0000</td>\n      <td>1306.7233</td>\n      <td>H</td>\n      <td>L</td>\n      <td>0.640065</td>\n      <td>NaN</td>\n    </tr>\n    <tr>\n      <th>1</th>\n      <td>1</td>\n      <td>194611010TRH</td>\n      <td>NBA</td>\n      <td>1</td>\n      <td>1947</td>\n      <td>11/1/1946</td>\n      <td>1</td>\n      <td>0</td>\n      <td>NYK</td>\n      <td>Knicks</td>\n      <td>68</td>\n      <td>1300.0000</td>\n      <td>1306.7233</td>\n      <td>41.705170</td>\n      <td>TRH</td>\n      <td>Huskies</td>\n      <td>66</td>\n      <td>1300.0000</td>\n      <td>1293.2767</td>\n      <td>A</td>\n      <td>W</td>\n      <td>0.359935</td>\n      <td>NaN</td>\n    </tr>\n    <tr>\n      <th>2</th>\n      <td>2</td>\n      <td>194611020CHS</td>\n      <td>NBA</td>\n      <td>0</td>\n      <td>1947</td>\n      <td>11/2/1946</td>\n      <td>1</td>\n      <td>0</td>\n      <td>CHS</td>\n      <td>Stags</td>\n      <td>63</td>\n      <td>1300.0000</td>\n      <td>1309.6521</td>\n      <td>42.012257</td>\n      <td>NYK</td>\n      <td>Knicks</td>\n      <td>47</td>\n      <td>1306.7233</td>\n      <td>1297.0712</td>\n      <td>H</td>\n      <td>W</td>\n      <td>0.631101</td>\n      <td>NaN</td>\n    </tr>\n    <tr>\n      <th>3</th>\n      <td>2</td>\n      <td>194611020CHS</td>\n      <td>NBA</td>\n      <td>1</td>\n      <td>1947</td>\n      <td>11/2/1946</td>\n      <td>2</td>\n      <td>0</td>\n      <td>NYK</td>\n      <td>Knicks</td>\n      <td>47</td>\n      <td>1306.7233</td>\n      <td>1297.0712</td>\n      <td>40.692783</td>\n      <td>CHS</td>\n      <td>Stags</td>\n      <td>63</td>\n      <td>1300.0000</td>\n      <td>1309.6521</td>\n      <td>A</td>\n      <td>L</td>\n      <td>0.368899</td>\n      <td>NaN</td>\n    </tr>\n    <tr>\n      <th>4</th>\n      <td>3</td>\n      <td>194611020DTF</td>\n      <td>NBA</td>\n      <td>0</td>\n      <td>1947</td>\n      <td>11/2/1946</td>\n      <td>1</td>\n      <td>0</td>\n      <td>DTF</td>\n      <td>Falcons</td>\n      <td>33</td>\n      <td>1300.0000</td>\n      <td>1279.6189</td>\n      <td>38.864048</td>\n      <td>WSC</td>\n      <td>Capitols</td>\n      <td>50</td>\n      <td>1300.0000</td>\n      <td>1320.3811</td>\n      <td>H</td>\n      <td>L</td>\n      <td>0.640065</td>\n      <td>NaN</td>\n    </tr>\n  </tbody>\n</table>\n</div>"
     },
     "execution_count": 10,
     "metadata": {},
     "output_type": "execute_result"
    }
   ],
   "source": [
    "pd.set_option(\"display.max.columns\", None)\n",
    "nba.head()"
   ],
   "metadata": {
    "collapsed": false,
    "pycharm": {
     "name": "#%%\n"
    }
   }
  },
  {
   "cell_type": "markdown",
   "source": [
    "While it’s practical to see all the columns, you probably won’t need six decimal places! Change it to two:\n",
    "\n"
   ],
   "metadata": {
    "collapsed": false,
    "pycharm": {
     "name": "#%% md\n"
    }
   }
  },
  {
   "cell_type": "code",
   "execution_count": 11,
   "outputs": [
    {
     "data": {
      "text/plain": "   gameorder       game_id lg_id  _iscopy  year_id  date_game  seasongame  \\\n0          1  194611010TRH   NBA        0     1947  11/1/1946           1   \n1          1  194611010TRH   NBA        1     1947  11/1/1946           1   \n2          2  194611020CHS   NBA        0     1947  11/2/1946           1   \n3          2  194611020CHS   NBA        1     1947  11/2/1946           2   \n4          3  194611020DTF   NBA        0     1947  11/2/1946           1   \n\n   is_playoffs team_id  fran_id  pts    elo_i    elo_n  win_equiv opp_id  \\\n0            0     TRH  Huskies   66  1300.00  1293.28      40.29    NYK   \n1            0     NYK   Knicks   68  1300.00  1306.72      41.71    TRH   \n2            0     CHS    Stags   63  1300.00  1309.65      42.01    NYK   \n3            0     NYK   Knicks   47  1306.72  1297.07      40.69    CHS   \n4            0     DTF  Falcons   33  1300.00  1279.62      38.86    WSC   \n\n   opp_fran  opp_pts  opp_elo_i  opp_elo_n game_location game_result  \\\n0    Knicks       68    1300.00    1306.72             H           L   \n1   Huskies       66    1300.00    1293.28             A           W   \n2    Knicks       47    1306.72    1297.07             H           W   \n3     Stags       63    1300.00    1309.65             A           L   \n4  Capitols       50    1300.00    1320.38             H           L   \n\n   forecast notes  \n0      0.64   NaN  \n1      0.36   NaN  \n2      0.63   NaN  \n3      0.37   NaN  \n4      0.64   NaN  ",
      "text/html": "<div>\n<style scoped>\n    .dataframe tbody tr th:only-of-type {\n        vertical-align: middle;\n    }\n\n    .dataframe tbody tr th {\n        vertical-align: top;\n    }\n\n    .dataframe thead th {\n        text-align: right;\n    }\n</style>\n<table border=\"1\" class=\"dataframe\">\n  <thead>\n    <tr style=\"text-align: right;\">\n      <th></th>\n      <th>gameorder</th>\n      <th>game_id</th>\n      <th>lg_id</th>\n      <th>_iscopy</th>\n      <th>year_id</th>\n      <th>date_game</th>\n      <th>seasongame</th>\n      <th>is_playoffs</th>\n      <th>team_id</th>\n      <th>fran_id</th>\n      <th>pts</th>\n      <th>elo_i</th>\n      <th>elo_n</th>\n      <th>win_equiv</th>\n      <th>opp_id</th>\n      <th>opp_fran</th>\n      <th>opp_pts</th>\n      <th>opp_elo_i</th>\n      <th>opp_elo_n</th>\n      <th>game_location</th>\n      <th>game_result</th>\n      <th>forecast</th>\n      <th>notes</th>\n    </tr>\n  </thead>\n  <tbody>\n    <tr>\n      <th>0</th>\n      <td>1</td>\n      <td>194611010TRH</td>\n      <td>NBA</td>\n      <td>0</td>\n      <td>1947</td>\n      <td>11/1/1946</td>\n      <td>1</td>\n      <td>0</td>\n      <td>TRH</td>\n      <td>Huskies</td>\n      <td>66</td>\n      <td>1300.00</td>\n      <td>1293.28</td>\n      <td>40.29</td>\n      <td>NYK</td>\n      <td>Knicks</td>\n      <td>68</td>\n      <td>1300.00</td>\n      <td>1306.72</td>\n      <td>H</td>\n      <td>L</td>\n      <td>0.64</td>\n      <td>NaN</td>\n    </tr>\n    <tr>\n      <th>1</th>\n      <td>1</td>\n      <td>194611010TRH</td>\n      <td>NBA</td>\n      <td>1</td>\n      <td>1947</td>\n      <td>11/1/1946</td>\n      <td>1</td>\n      <td>0</td>\n      <td>NYK</td>\n      <td>Knicks</td>\n      <td>68</td>\n      <td>1300.00</td>\n      <td>1306.72</td>\n      <td>41.71</td>\n      <td>TRH</td>\n      <td>Huskies</td>\n      <td>66</td>\n      <td>1300.00</td>\n      <td>1293.28</td>\n      <td>A</td>\n      <td>W</td>\n      <td>0.36</td>\n      <td>NaN</td>\n    </tr>\n    <tr>\n      <th>2</th>\n      <td>2</td>\n      <td>194611020CHS</td>\n      <td>NBA</td>\n      <td>0</td>\n      <td>1947</td>\n      <td>11/2/1946</td>\n      <td>1</td>\n      <td>0</td>\n      <td>CHS</td>\n      <td>Stags</td>\n      <td>63</td>\n      <td>1300.00</td>\n      <td>1309.65</td>\n      <td>42.01</td>\n      <td>NYK</td>\n      <td>Knicks</td>\n      <td>47</td>\n      <td>1306.72</td>\n      <td>1297.07</td>\n      <td>H</td>\n      <td>W</td>\n      <td>0.63</td>\n      <td>NaN</td>\n    </tr>\n    <tr>\n      <th>3</th>\n      <td>2</td>\n      <td>194611020CHS</td>\n      <td>NBA</td>\n      <td>1</td>\n      <td>1947</td>\n      <td>11/2/1946</td>\n      <td>2</td>\n      <td>0</td>\n      <td>NYK</td>\n      <td>Knicks</td>\n      <td>47</td>\n      <td>1306.72</td>\n      <td>1297.07</td>\n      <td>40.69</td>\n      <td>CHS</td>\n      <td>Stags</td>\n      <td>63</td>\n      <td>1300.00</td>\n      <td>1309.65</td>\n      <td>A</td>\n      <td>L</td>\n      <td>0.37</td>\n      <td>NaN</td>\n    </tr>\n    <tr>\n      <th>4</th>\n      <td>3</td>\n      <td>194611020DTF</td>\n      <td>NBA</td>\n      <td>0</td>\n      <td>1947</td>\n      <td>11/2/1946</td>\n      <td>1</td>\n      <td>0</td>\n      <td>DTF</td>\n      <td>Falcons</td>\n      <td>33</td>\n      <td>1300.00</td>\n      <td>1279.62</td>\n      <td>38.86</td>\n      <td>WSC</td>\n      <td>Capitols</td>\n      <td>50</td>\n      <td>1300.00</td>\n      <td>1320.38</td>\n      <td>H</td>\n      <td>L</td>\n      <td>0.64</td>\n      <td>NaN</td>\n    </tr>\n  </tbody>\n</table>\n</div>"
     },
     "execution_count": 11,
     "metadata": {},
     "output_type": "execute_result"
    }
   ],
   "source": [
    "pd.set_option(\"display.precision\", 2)\n",
    "nba.head()\n"
   ],
   "metadata": {
    "collapsed": false,
    "pycharm": {
     "name": "#%%\n"
    }
   }
  },
  {
   "cell_type": "markdown",
   "source": [
    "The tail\n",
    "\n"
   ],
   "metadata": {
    "collapsed": false,
    "pycharm": {
     "name": "#%% md\n"
    }
   }
  },
  {
   "cell_type": "code",
   "execution_count": 12,
   "outputs": [
    {
     "data": {
      "text/plain": "        gameorder       game_id lg_id  _iscopy  year_id  date_game  \\\n126309      63155  201506110CLE   NBA        0     2015  6/11/2015   \n126310      63156  201506140GSW   NBA        0     2015  6/14/2015   \n126311      63156  201506140GSW   NBA        1     2015  6/14/2015   \n126312      63157  201506170CLE   NBA        0     2015  6/16/2015   \n126313      63157  201506170CLE   NBA        1     2015  6/16/2015   \n\n        seasongame  is_playoffs team_id    fran_id  pts    elo_i    elo_n  \\\n126309         100            1     CLE  Cavaliers   82  1723.41  1704.39   \n126310         102            1     GSW   Warriors  104  1809.98  1813.63   \n126311         101            1     CLE  Cavaliers   91  1704.39  1700.74   \n126312         102            1     CLE  Cavaliers   97  1700.74  1692.09   \n126313         103            1     GSW   Warriors  105  1813.63  1822.29   \n\n        win_equiv opp_id   opp_fran  opp_pts  opp_elo_i  opp_elo_n  \\\n126309      60.31    GSW   Warriors      103    1790.96    1809.98   \n126310      68.01    CLE  Cavaliers       91    1704.39    1700.74   \n126311      60.01    GSW   Warriors      104    1809.98    1813.63   \n126312      59.29    GSW   Warriors      105    1813.63    1822.29   \n126313      68.52    CLE  Cavaliers       97    1700.74    1692.09   \n\n       game_location game_result  forecast notes  \n126309             H           L      0.55   NaN  \n126310             H           W      0.77   NaN  \n126311             A           L      0.23   NaN  \n126312             H           L      0.48   NaN  \n126313             A           W      0.52   NaN  ",
      "text/html": "<div>\n<style scoped>\n    .dataframe tbody tr th:only-of-type {\n        vertical-align: middle;\n    }\n\n    .dataframe tbody tr th {\n        vertical-align: top;\n    }\n\n    .dataframe thead th {\n        text-align: right;\n    }\n</style>\n<table border=\"1\" class=\"dataframe\">\n  <thead>\n    <tr style=\"text-align: right;\">\n      <th></th>\n      <th>gameorder</th>\n      <th>game_id</th>\n      <th>lg_id</th>\n      <th>_iscopy</th>\n      <th>year_id</th>\n      <th>date_game</th>\n      <th>seasongame</th>\n      <th>is_playoffs</th>\n      <th>team_id</th>\n      <th>fran_id</th>\n      <th>pts</th>\n      <th>elo_i</th>\n      <th>elo_n</th>\n      <th>win_equiv</th>\n      <th>opp_id</th>\n      <th>opp_fran</th>\n      <th>opp_pts</th>\n      <th>opp_elo_i</th>\n      <th>opp_elo_n</th>\n      <th>game_location</th>\n      <th>game_result</th>\n      <th>forecast</th>\n      <th>notes</th>\n    </tr>\n  </thead>\n  <tbody>\n    <tr>\n      <th>126309</th>\n      <td>63155</td>\n      <td>201506110CLE</td>\n      <td>NBA</td>\n      <td>0</td>\n      <td>2015</td>\n      <td>6/11/2015</td>\n      <td>100</td>\n      <td>1</td>\n      <td>CLE</td>\n      <td>Cavaliers</td>\n      <td>82</td>\n      <td>1723.41</td>\n      <td>1704.39</td>\n      <td>60.31</td>\n      <td>GSW</td>\n      <td>Warriors</td>\n      <td>103</td>\n      <td>1790.96</td>\n      <td>1809.98</td>\n      <td>H</td>\n      <td>L</td>\n      <td>0.55</td>\n      <td>NaN</td>\n    </tr>\n    <tr>\n      <th>126310</th>\n      <td>63156</td>\n      <td>201506140GSW</td>\n      <td>NBA</td>\n      <td>0</td>\n      <td>2015</td>\n      <td>6/14/2015</td>\n      <td>102</td>\n      <td>1</td>\n      <td>GSW</td>\n      <td>Warriors</td>\n      <td>104</td>\n      <td>1809.98</td>\n      <td>1813.63</td>\n      <td>68.01</td>\n      <td>CLE</td>\n      <td>Cavaliers</td>\n      <td>91</td>\n      <td>1704.39</td>\n      <td>1700.74</td>\n      <td>H</td>\n      <td>W</td>\n      <td>0.77</td>\n      <td>NaN</td>\n    </tr>\n    <tr>\n      <th>126311</th>\n      <td>63156</td>\n      <td>201506140GSW</td>\n      <td>NBA</td>\n      <td>1</td>\n      <td>2015</td>\n      <td>6/14/2015</td>\n      <td>101</td>\n      <td>1</td>\n      <td>CLE</td>\n      <td>Cavaliers</td>\n      <td>91</td>\n      <td>1704.39</td>\n      <td>1700.74</td>\n      <td>60.01</td>\n      <td>GSW</td>\n      <td>Warriors</td>\n      <td>104</td>\n      <td>1809.98</td>\n      <td>1813.63</td>\n      <td>A</td>\n      <td>L</td>\n      <td>0.23</td>\n      <td>NaN</td>\n    </tr>\n    <tr>\n      <th>126312</th>\n      <td>63157</td>\n      <td>201506170CLE</td>\n      <td>NBA</td>\n      <td>0</td>\n      <td>2015</td>\n      <td>6/16/2015</td>\n      <td>102</td>\n      <td>1</td>\n      <td>CLE</td>\n      <td>Cavaliers</td>\n      <td>97</td>\n      <td>1700.74</td>\n      <td>1692.09</td>\n      <td>59.29</td>\n      <td>GSW</td>\n      <td>Warriors</td>\n      <td>105</td>\n      <td>1813.63</td>\n      <td>1822.29</td>\n      <td>H</td>\n      <td>L</td>\n      <td>0.48</td>\n      <td>NaN</td>\n    </tr>\n    <tr>\n      <th>126313</th>\n      <td>63157</td>\n      <td>201506170CLE</td>\n      <td>NBA</td>\n      <td>1</td>\n      <td>2015</td>\n      <td>6/16/2015</td>\n      <td>103</td>\n      <td>1</td>\n      <td>GSW</td>\n      <td>Warriors</td>\n      <td>105</td>\n      <td>1813.63</td>\n      <td>1822.29</td>\n      <td>68.52</td>\n      <td>CLE</td>\n      <td>Cavaliers</td>\n      <td>97</td>\n      <td>1700.74</td>\n      <td>1692.09</td>\n      <td>A</td>\n      <td>W</td>\n      <td>0.52</td>\n      <td>NaN</td>\n    </tr>\n  </tbody>\n</table>\n</div>"
     },
     "execution_count": 12,
     "metadata": {},
     "output_type": "execute_result"
    }
   ],
   "source": [
    "nba.tail()"
   ],
   "metadata": {
    "collapsed": false,
    "pycharm": {
     "name": "#%%\n"
    }
   }
  },
  {
   "cell_type": "markdown",
   "source": [
    "## Displaying Data Types\n",
    "The first step in getting to know your data is\n",
    "to discover the different data types it contains."
   ],
   "metadata": {
    "collapsed": false,
    "pycharm": {
     "name": "#%% md\n"
    }
   }
  },
  {
   "cell_type": "code",
   "execution_count": 13,
   "outputs": [
    {
     "name": "stdout",
     "output_type": "stream",
     "text": [
      "<class 'pandas.core.frame.DataFrame'>\n",
      "RangeIndex: 126314 entries, 0 to 126313\n",
      "Data columns (total 23 columns):\n",
      " #   Column         Non-Null Count   Dtype  \n",
      "---  ------         --------------   -----  \n",
      " 0   gameorder      126314 non-null  int64  \n",
      " 1   game_id        126314 non-null  object \n",
      " 2   lg_id          126314 non-null  object \n",
      " 3   _iscopy        126314 non-null  int64  \n",
      " 4   year_id        126314 non-null  int64  \n",
      " 5   date_game      126314 non-null  object \n",
      " 6   seasongame     126314 non-null  int64  \n",
      " 7   is_playoffs    126314 non-null  int64  \n",
      " 8   team_id        126314 non-null  object \n",
      " 9   fran_id        126314 non-null  object \n",
      " 10  pts            126314 non-null  int64  \n",
      " 11  elo_i          126314 non-null  float64\n",
      " 12  elo_n          126314 non-null  float64\n",
      " 13  win_equiv      126314 non-null  float64\n",
      " 14  opp_id         126314 non-null  object \n",
      " 15  opp_fran       126314 non-null  object \n",
      " 16  opp_pts        126314 non-null  int64  \n",
      " 17  opp_elo_i      126314 non-null  float64\n",
      " 18  opp_elo_n      126314 non-null  float64\n",
      " 19  game_location  126314 non-null  object \n",
      " 20  game_result    126314 non-null  object \n",
      " 21  forecast       126314 non-null  float64\n",
      " 22  notes          5424 non-null    object \n",
      "dtypes: float64(6), int64(7), object(10)\n",
      "memory usage: 22.2+ MB\n"
     ]
    }
   ],
   "source": [
    "nba.info()"
   ],
   "metadata": {
    "collapsed": false,
    "pycharm": {
     "name": "#%%\n"
    }
   }
  },
  {
   "cell_type": "markdown",
   "source": [
    "### Showing Basics Statistics:\n",
    "\n"
   ],
   "metadata": {
    "collapsed": false,
    "pycharm": {
     "name": "#%% md\n"
    }
   }
  },
  {
   "cell_type": "code",
   "execution_count": 15,
   "outputs": [
    {
     "data": {
      "text/plain": "       gameorder   _iscopy    year_id  seasongame  is_playoffs        pts  \\\ncount  126314.00  126314.0  126314.00   126314.00    126314.00  126314.00   \nmean    31579.00       0.5    1988.20       43.53         0.06     102.73   \nstd     18231.93       0.5      17.58       25.38         0.24      14.81   \nmin         1.00       0.0    1947.00        1.00         0.00       0.00   \n25%     15790.00       0.0    1975.00       22.00         0.00      93.00   \n50%     31579.00       0.5    1990.00       43.00         0.00     103.00   \n75%     47368.00       1.0    2003.00       65.00         0.00     112.00   \nmax     63157.00       1.0    2015.00      108.00         1.00     186.00   \n\n           elo_i      elo_n  win_equiv    opp_pts  opp_elo_i  opp_elo_n  \\\ncount  126314.00  126314.00  126314.00  126314.00  126314.00  126314.00   \nmean     1495.24    1495.24      41.71     102.73    1495.24    1495.24   \nstd       112.14     112.46      10.63      14.81     112.14     112.46   \nmin      1091.64    1085.77      10.15       0.00    1091.64    1085.77   \n25%      1417.24    1416.99      34.10      93.00    1417.24    1416.99   \n50%      1500.95    1500.95      42.11     103.00    1500.95    1500.95   \n75%      1576.06    1576.29      49.64     112.00    1576.06    1576.29   \nmax      1853.10    1853.10      71.11     186.00    1853.10    1853.10   \n\n        forecast  \ncount  126314.00  \nmean        0.50  \nstd         0.22  \nmin         0.02  \n25%         0.33  \n50%         0.50  \n75%         0.67  \nmax         0.98  ",
      "text/html": "<div>\n<style scoped>\n    .dataframe tbody tr th:only-of-type {\n        vertical-align: middle;\n    }\n\n    .dataframe tbody tr th {\n        vertical-align: top;\n    }\n\n    .dataframe thead th {\n        text-align: right;\n    }\n</style>\n<table border=\"1\" class=\"dataframe\">\n  <thead>\n    <tr style=\"text-align: right;\">\n      <th></th>\n      <th>gameorder</th>\n      <th>_iscopy</th>\n      <th>year_id</th>\n      <th>seasongame</th>\n      <th>is_playoffs</th>\n      <th>pts</th>\n      <th>elo_i</th>\n      <th>elo_n</th>\n      <th>win_equiv</th>\n      <th>opp_pts</th>\n      <th>opp_elo_i</th>\n      <th>opp_elo_n</th>\n      <th>forecast</th>\n    </tr>\n  </thead>\n  <tbody>\n    <tr>\n      <th>count</th>\n      <td>126314.00</td>\n      <td>126314.0</td>\n      <td>126314.00</td>\n      <td>126314.00</td>\n      <td>126314.00</td>\n      <td>126314.00</td>\n      <td>126314.00</td>\n      <td>126314.00</td>\n      <td>126314.00</td>\n      <td>126314.00</td>\n      <td>126314.00</td>\n      <td>126314.00</td>\n      <td>126314.00</td>\n    </tr>\n    <tr>\n      <th>mean</th>\n      <td>31579.00</td>\n      <td>0.5</td>\n      <td>1988.20</td>\n      <td>43.53</td>\n      <td>0.06</td>\n      <td>102.73</td>\n      <td>1495.24</td>\n      <td>1495.24</td>\n      <td>41.71</td>\n      <td>102.73</td>\n      <td>1495.24</td>\n      <td>1495.24</td>\n      <td>0.50</td>\n    </tr>\n    <tr>\n      <th>std</th>\n      <td>18231.93</td>\n      <td>0.5</td>\n      <td>17.58</td>\n      <td>25.38</td>\n      <td>0.24</td>\n      <td>14.81</td>\n      <td>112.14</td>\n      <td>112.46</td>\n      <td>10.63</td>\n      <td>14.81</td>\n      <td>112.14</td>\n      <td>112.46</td>\n      <td>0.22</td>\n    </tr>\n    <tr>\n      <th>min</th>\n      <td>1.00</td>\n      <td>0.0</td>\n      <td>1947.00</td>\n      <td>1.00</td>\n      <td>0.00</td>\n      <td>0.00</td>\n      <td>1091.64</td>\n      <td>1085.77</td>\n      <td>10.15</td>\n      <td>0.00</td>\n      <td>1091.64</td>\n      <td>1085.77</td>\n      <td>0.02</td>\n    </tr>\n    <tr>\n      <th>25%</th>\n      <td>15790.00</td>\n      <td>0.0</td>\n      <td>1975.00</td>\n      <td>22.00</td>\n      <td>0.00</td>\n      <td>93.00</td>\n      <td>1417.24</td>\n      <td>1416.99</td>\n      <td>34.10</td>\n      <td>93.00</td>\n      <td>1417.24</td>\n      <td>1416.99</td>\n      <td>0.33</td>\n    </tr>\n    <tr>\n      <th>50%</th>\n      <td>31579.00</td>\n      <td>0.5</td>\n      <td>1990.00</td>\n      <td>43.00</td>\n      <td>0.00</td>\n      <td>103.00</td>\n      <td>1500.95</td>\n      <td>1500.95</td>\n      <td>42.11</td>\n      <td>103.00</td>\n      <td>1500.95</td>\n      <td>1500.95</td>\n      <td>0.50</td>\n    </tr>\n    <tr>\n      <th>75%</th>\n      <td>47368.00</td>\n      <td>1.0</td>\n      <td>2003.00</td>\n      <td>65.00</td>\n      <td>0.00</td>\n      <td>112.00</td>\n      <td>1576.06</td>\n      <td>1576.29</td>\n      <td>49.64</td>\n      <td>112.00</td>\n      <td>1576.06</td>\n      <td>1576.29</td>\n      <td>0.67</td>\n    </tr>\n    <tr>\n      <th>max</th>\n      <td>63157.00</td>\n      <td>1.0</td>\n      <td>2015.00</td>\n      <td>108.00</td>\n      <td>1.00</td>\n      <td>186.00</td>\n      <td>1853.10</td>\n      <td>1853.10</td>\n      <td>71.11</td>\n      <td>186.00</td>\n      <td>1853.10</td>\n      <td>1853.10</td>\n      <td>0.98</td>\n    </tr>\n  </tbody>\n</table>\n</div>"
     },
     "execution_count": 15,
     "metadata": {},
     "output_type": "execute_result"
    }
   ],
   "source": [
    "nba.describe()"
   ],
   "metadata": {
    "collapsed": false,
    "pycharm": {
     "name": "#%%\n"
    }
   }
  },
  {
   "cell_type": "code",
   "execution_count": 16,
   "outputs": [
    {
     "data": {
      "text/plain": "             game_id   lg_id  date_game team_id fran_id  opp_id opp_fran  \\\ncount         126314  126314     126314  126314  126314  126314   126314   \nunique         63157       2      12426     104      53     104       53   \ntop     197302140MMT     NBA  4/13/2011     BOS  Lakers     BOS   Lakers   \nfreq               2  118016         30    5997    6024    5997     6024   \n\n       game_location game_result           notes  \ncount         126314      126314            5424  \nunique             3           2             231  \ntop                H           L  at New York NY  \nfreq           63138       63157             440  ",
      "text/html": "<div>\n<style scoped>\n    .dataframe tbody tr th:only-of-type {\n        vertical-align: middle;\n    }\n\n    .dataframe tbody tr th {\n        vertical-align: top;\n    }\n\n    .dataframe thead th {\n        text-align: right;\n    }\n</style>\n<table border=\"1\" class=\"dataframe\">\n  <thead>\n    <tr style=\"text-align: right;\">\n      <th></th>\n      <th>game_id</th>\n      <th>lg_id</th>\n      <th>date_game</th>\n      <th>team_id</th>\n      <th>fran_id</th>\n      <th>opp_id</th>\n      <th>opp_fran</th>\n      <th>game_location</th>\n      <th>game_result</th>\n      <th>notes</th>\n    </tr>\n  </thead>\n  <tbody>\n    <tr>\n      <th>count</th>\n      <td>126314</td>\n      <td>126314</td>\n      <td>126314</td>\n      <td>126314</td>\n      <td>126314</td>\n      <td>126314</td>\n      <td>126314</td>\n      <td>126314</td>\n      <td>126314</td>\n      <td>5424</td>\n    </tr>\n    <tr>\n      <th>unique</th>\n      <td>63157</td>\n      <td>2</td>\n      <td>12426</td>\n      <td>104</td>\n      <td>53</td>\n      <td>104</td>\n      <td>53</td>\n      <td>3</td>\n      <td>2</td>\n      <td>231</td>\n    </tr>\n    <tr>\n      <th>top</th>\n      <td>197302140MMT</td>\n      <td>NBA</td>\n      <td>4/13/2011</td>\n      <td>BOS</td>\n      <td>Lakers</td>\n      <td>BOS</td>\n      <td>Lakers</td>\n      <td>H</td>\n      <td>L</td>\n      <td>at New York NY</td>\n    </tr>\n    <tr>\n      <th>freq</th>\n      <td>2</td>\n      <td>118016</td>\n      <td>30</td>\n      <td>5997</td>\n      <td>6024</td>\n      <td>5997</td>\n      <td>6024</td>\n      <td>63138</td>\n      <td>63157</td>\n      <td>440</td>\n    </tr>\n  </tbody>\n</table>\n</div>"
     },
     "execution_count": 16,
     "metadata": {},
     "output_type": "execute_result"
    }
   ],
   "source": [
    "nba.describe(include=object)\n"
   ],
   "metadata": {
    "collapsed": false,
    "pycharm": {
     "name": "#%%\n"
    }
   }
  },
  {
   "cell_type": "markdown",
   "source": [
    "### Exploring Your Dataset\n",
    "For example, you can examine how often specific values occur in a column:"
   ],
   "metadata": {
    "collapsed": false,
    "pycharm": {
     "name": "#%% md\n"
    }
   }
  },
  {
   "cell_type": "code",
   "execution_count": 17,
   "outputs": [
    {
     "data": {
      "text/plain": "BOS    5997\nNYK    5769\nLAL    5078\nDET    4985\nPHI    4533\n       ... \nINJ      60\nTRH      60\nPIT      60\nDTF      60\nSDS      11\nName: team_id, Length: 104, dtype: int64"
     },
     "execution_count": 17,
     "metadata": {},
     "output_type": "execute_result"
    }
   ],
   "source": [
    "nba[\"team_id\"].value_counts()\n",
    "\n"
   ],
   "metadata": {
    "collapsed": false,
    "pycharm": {
     "name": "#%%\n"
    }
   }
  },
  {
   "cell_type": "code",
   "execution_count": 18,
   "outputs": [
    {
     "data": {
      "text/plain": "Lakers          6024\nCeltics         5997\nKnicks          5769\nWarriors        5657\nPistons         5650\nSixers          5644\nHawks           5572\nKings           5475\nWizards         4582\nSpurs           4309\nBulls           4307\nPacers          4227\nThunder         4178\nRockets         4154\nNuggets         4120\nNets            4106\nSuns            4080\nBucks           4034\nTrailblazers    3870\nCavaliers       3810\nClippers        3733\nJazz            3555\nMavericks       3013\nHeat            2371\nPelicans        2254\nMagic           2207\nTimberwolves    2131\nGrizzlies       1657\nRaptors         1634\nHornets          894\nColonels         846\nSquires          799\nSpirits          777\nStars            756\nSounds           697\nBaltimore        467\nFloridians       440\nCondors          430\nCapitols         291\nOlympians        282\nSails            274\nStags            260\nBombers          249\nSteamrollers     168\nPackers           72\nRedskins          65\nRebels            63\nDenver            62\nWaterloo          62\nIronmen           60\nHuskies           60\nFalcons           60\nJets              60\nName: fran_id, dtype: int64"
     },
     "execution_count": 18,
     "metadata": {},
     "output_type": "execute_result"
    }
   ],
   "source": [
    "nba[\"fran_id\"].value_counts()\n"
   ],
   "metadata": {
    "collapsed": false,
    "pycharm": {
     "name": "#%%\n"
    }
   }
  },
  {
   "cell_type": "markdown",
   "source": [
    "It seems that a team named \"Lakers\" played 6024 games,\n",
    "but only 5078 of those were played by the Los Angeles Lakers.\n",
    "Find out who the other \"Lakers\" team is:"
   ],
   "metadata": {
    "collapsed": false,
    "pycharm": {
     "name": "#%% md\n"
    }
   }
  },
  {
   "cell_type": "code",
   "execution_count": 20,
   "outputs": [
    {
     "data": {
      "text/plain": "LAL    5078\nMNL     946\nName: team_id, dtype: int64"
     },
     "execution_count": 20,
     "metadata": {},
     "output_type": "execute_result"
    }
   ],
   "source": [
    "nba.loc[nba[\"fran_id\"] == \"Lakers\", \"team_id\"].value_counts()\n"
   ],
   "metadata": {
    "collapsed": false,
    "pycharm": {
     "name": "#%%\n"
    }
   }
  },
  {
   "cell_type": "markdown",
   "source": [
    "## Getting to Know Pandas’ Data Structures\n",
    "While a DataFrame provides functions that can feel quite intuitive,\n",
    "the underlying concepts are a bit trickier to understand.\n",
    "For this reason, you’ll set aside the vast NBA DataFrame and\n",
    "build some smaller Pandas objects from scratch."
   ],
   "metadata": {
    "collapsed": false,
    "pycharm": {
     "name": "#%% md\n"
    }
   }
  },
  {
   "cell_type": "code",
   "execution_count": 21,
   "outputs": [
    {
     "data": {
      "text/plain": "0    5555\n1    7000\n2    1980\ndtype: int64"
     },
     "execution_count": 21,
     "metadata": {},
     "output_type": "execute_result"
    }
   ],
   "source": [
    "revenues = pd.Series([5555, 7000, 1980])\n",
    "revenues\n"
   ],
   "metadata": {
    "collapsed": false,
    "pycharm": {
     "name": "#%%\n"
    }
   }
  },
  {
   "cell_type": "markdown",
   "source": [
    "You’ve used the list [5555, 7000, 1980] to create a Series object called revenues. A Series object wraps two components:\n",
    "\n",
    "A sequence of values\n",
    "A sequence of identifiers, which is the index\n",
    "You can access these components with .values and .index, respectively:\n"
   ],
   "metadata": {
    "collapsed": false,
    "pycharm": {
     "name": "#%% md\n"
    }
   }
  },
  {
   "cell_type": "code",
   "execution_count": 22,
   "outputs": [
    {
     "data": {
      "text/plain": "array([5555, 7000, 1980])"
     },
     "execution_count": 22,
     "metadata": {},
     "output_type": "execute_result"
    }
   ],
   "source": [
    "revenues.values"
   ],
   "metadata": {
    "collapsed": false,
    "pycharm": {
     "name": "#%%\n"
    }
   }
  },
  {
   "cell_type": "code",
   "execution_count": 23,
   "outputs": [
    {
     "data": {
      "text/plain": "RangeIndex(start=0, stop=3, step=1)"
     },
     "execution_count": 23,
     "metadata": {},
     "output_type": "execute_result"
    }
   ],
   "source": [
    "revenues.index\n"
   ],
   "metadata": {
    "collapsed": false,
    "pycharm": {
     "name": "#%%\n"
    }
   }
  },
  {
   "cell_type": "markdown",
   "source": [
    "While Pandas builds on NumPy, a significant difference is in\n",
    "their indexing. Just like a NumPy array,\n",
    "a Pandas Series also has an integer index that’s implicitly defined.\n",
    "This implicit index indicates the element’s position in the Series.\n",
    "\n",
    "However, a Series can also have an arbitrary type of index.\n",
    "You can think of this explicit index as labels for a specific row:\n"
   ],
   "metadata": {
    "collapsed": false,
    "pycharm": {
     "name": "#%% md\n"
    }
   }
  },
  {
   "cell_type": "code",
   "execution_count": 24,
   "outputs": [
    {
     "data": {
      "text/plain": "Amsterdam    4200\nToronto      8000\nTokyo        6500\ndtype: int64"
     },
     "execution_count": 24,
     "metadata": {},
     "output_type": "execute_result"
    }
   ],
   "source": [
    "city_revenues = pd.Series(\n",
    "    [4200, 8000, 6500],\n",
    "    index=[\"Amsterdam\", \"Toronto\", \"Tokyo\"]\n",
    ")\n",
    "city_revenues\n"
   ],
   "metadata": {
    "collapsed": false,
    "pycharm": {
     "name": "#%%\n"
    }
   }
  },
  {
   "cell_type": "markdown",
   "source": [
    "1. revenues: This Series behaves like a Python list because it only has a positional index.\n",
    "\n",
    "1. city_revenues: This Series acts like a Python dictionary because it features both a positional and a label index.\n"
   ],
   "metadata": {
    "collapsed": false,
    "pycharm": {
     "name": "#%% md\n"
    }
   }
  },
  {
   "cell_type": "code",
   "execution_count": 25,
   "outputs": [
    {
     "data": {
      "text/plain": "Amsterdam    5\nTokyo        8\ndtype: int64"
     },
     "execution_count": 25,
     "metadata": {},
     "output_type": "execute_result"
    }
   ],
   "source": [
    "city_employee_count = pd.Series({\"Amsterdam\": 5, \"Tokyo\": 8})\n",
    "city_employee_count\n"
   ],
   "metadata": {
    "collapsed": false,
    "pycharm": {
     "name": "#%%\n"
    }
   }
  },
  {
   "cell_type": "code",
   "execution_count": 26,
   "outputs": [
    {
     "data": {
      "text/plain": "Index(['Amsterdam', 'Tokyo'], dtype='object')"
     },
     "execution_count": 26,
     "metadata": {},
     "output_type": "execute_result"
    }
   ],
   "source": [
    "city_employee_count.keys()"
   ],
   "metadata": {
    "collapsed": false,
    "pycharm": {
     "name": "#%%\n"
    }
   }
  },
  {
   "cell_type": "code",
   "execution_count": 27,
   "outputs": [
    {
     "data": {
      "text/plain": "True"
     },
     "execution_count": 27,
     "metadata": {},
     "output_type": "execute_result"
    }
   ],
   "source": [
    "\"Tokyo\" in city_employee_count"
   ],
   "metadata": {
    "collapsed": false,
    "pycharm": {
     "name": "#%%\n"
    }
   }
  },
  {
   "cell_type": "code",
   "execution_count": 28,
   "outputs": [
    {
     "data": {
      "text/plain": "False"
     },
     "execution_count": 28,
     "metadata": {},
     "output_type": "execute_result"
    }
   ],
   "source": [
    "\"New York\" in city_employee_count\n"
   ],
   "metadata": {
    "collapsed": false,
    "pycharm": {
     "name": "#%%\n"
    }
   }
  },
  {
   "cell_type": "code",
   "execution_count": null,
   "outputs": [],
   "source": [],
   "metadata": {
    "collapsed": false,
    "pycharm": {
     "name": "#%%\n"
    }
   }
  }
 ],
 "metadata": {
  "kernelspec": {
   "display_name": "Python 3",
   "language": "python",
   "name": "python3"
  },
  "language_info": {
   "codemirror_mode": {
    "name": "ipython",
    "version": 2
   },
   "file_extension": ".py",
   "mimetype": "text/x-python",
   "name": "python",
   "nbconvert_exporter": "python",
   "pygments_lexer": "ipython2",
   "version": "2.7.6"
  }
 },
 "nbformat": 4,
 "nbformat_minor": 0
}